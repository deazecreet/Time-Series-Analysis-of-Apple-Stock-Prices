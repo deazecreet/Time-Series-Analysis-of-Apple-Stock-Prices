{
  "nbformat": 4,
  "nbformat_minor": 0,
  "metadata": {
    "colab": {
      "provenance": [],
      "toc_visible": true,
      "machine_shape": "hm",
      "gpuType": "T4"
    },
    "kernelspec": {
      "name": "python3",
      "display_name": "Python 3"
    },
    "language_info": {
      "name": "python"
    },
    "accelerator": "GPU"
  },
  "cells": [
    {
      "cell_type": "code",
      "execution_count": 1,
      "metadata": {
        "colab": {
          "base_uri": "https://localhost:8080/"
        },
        "id": "6zU7obg4ncw8",
        "outputId": "5f0b6100-fd7e-44c1-e857-c2ab43da3503"
      },
      "outputs": [
        {
          "output_type": "stream",
          "name": "stdout",
          "text": [
            "Requirement already satisfied: datasets in /usr/local/lib/python3.10/dist-packages (2.15.0)\n",
            "Requirement already satisfied: numpy>=1.17 in /usr/local/lib/python3.10/dist-packages (from datasets) (1.23.5)\n",
            "Requirement already satisfied: pyarrow>=8.0.0 in /usr/local/lib/python3.10/dist-packages (from datasets) (10.0.1)\n",
            "Requirement already satisfied: pyarrow-hotfix in /usr/local/lib/python3.10/dist-packages (from datasets) (0.6)\n",
            "Requirement already satisfied: dill<0.3.8,>=0.3.0 in /usr/local/lib/python3.10/dist-packages (from datasets) (0.3.7)\n",
            "Requirement already satisfied: pandas in /usr/local/lib/python3.10/dist-packages (from datasets) (1.5.3)\n",
            "Requirement already satisfied: requests>=2.19.0 in /usr/local/lib/python3.10/dist-packages (from datasets) (2.31.0)\n",
            "Requirement already satisfied: tqdm>=4.62.1 in /usr/local/lib/python3.10/dist-packages (from datasets) (4.66.1)\n",
            "Requirement already satisfied: xxhash in /usr/local/lib/python3.10/dist-packages (from datasets) (3.4.1)\n",
            "Requirement already satisfied: multiprocess in /usr/local/lib/python3.10/dist-packages (from datasets) (0.70.15)\n",
            "Requirement already satisfied: fsspec[http]<=2023.10.0,>=2023.1.0 in /usr/local/lib/python3.10/dist-packages (from datasets) (2023.6.0)\n",
            "Requirement already satisfied: aiohttp in /usr/local/lib/python3.10/dist-packages (from datasets) (3.9.1)\n",
            "Requirement already satisfied: huggingface-hub>=0.18.0 in /usr/local/lib/python3.10/dist-packages (from datasets) (0.19.4)\n",
            "Requirement already satisfied: packaging in /usr/local/lib/python3.10/dist-packages (from datasets) (23.2)\n",
            "Requirement already satisfied: pyyaml>=5.1 in /usr/local/lib/python3.10/dist-packages (from datasets) (6.0.1)\n",
            "Requirement already satisfied: attrs>=17.3.0 in /usr/local/lib/python3.10/dist-packages (from aiohttp->datasets) (23.1.0)\n",
            "Requirement already satisfied: multidict<7.0,>=4.5 in /usr/local/lib/python3.10/dist-packages (from aiohttp->datasets) (6.0.4)\n",
            "Requirement already satisfied: yarl<2.0,>=1.0 in /usr/local/lib/python3.10/dist-packages (from aiohttp->datasets) (1.9.4)\n",
            "Requirement already satisfied: frozenlist>=1.1.1 in /usr/local/lib/python3.10/dist-packages (from aiohttp->datasets) (1.4.0)\n",
            "Requirement already satisfied: aiosignal>=1.1.2 in /usr/local/lib/python3.10/dist-packages (from aiohttp->datasets) (1.3.1)\n",
            "Requirement already satisfied: async-timeout<5.0,>=4.0 in /usr/local/lib/python3.10/dist-packages (from aiohttp->datasets) (4.0.3)\n",
            "Requirement already satisfied: filelock in /usr/local/lib/python3.10/dist-packages (from huggingface-hub>=0.18.0->datasets) (3.13.1)\n",
            "Requirement already satisfied: typing-extensions>=3.7.4.3 in /usr/local/lib/python3.10/dist-packages (from huggingface-hub>=0.18.0->datasets) (4.5.0)\n",
            "Requirement already satisfied: charset-normalizer<4,>=2 in /usr/local/lib/python3.10/dist-packages (from requests>=2.19.0->datasets) (3.3.2)\n",
            "Requirement already satisfied: idna<4,>=2.5 in /usr/local/lib/python3.10/dist-packages (from requests>=2.19.0->datasets) (3.6)\n",
            "Requirement already satisfied: urllib3<3,>=1.21.1 in /usr/local/lib/python3.10/dist-packages (from requests>=2.19.0->datasets) (2.0.7)\n",
            "Requirement already satisfied: certifi>=2017.4.17 in /usr/local/lib/python3.10/dist-packages (from requests>=2.19.0->datasets) (2023.11.17)\n",
            "Requirement already satisfied: python-dateutil>=2.8.1 in /usr/local/lib/python3.10/dist-packages (from pandas->datasets) (2.8.2)\n",
            "Requirement already satisfied: pytz>=2020.1 in /usr/local/lib/python3.10/dist-packages (from pandas->datasets) (2023.3.post1)\n",
            "Requirement already satisfied: six>=1.5 in /usr/local/lib/python3.10/dist-packages (from python-dateutil>=2.8.1->pandas->datasets) (1.16.0)\n"
          ]
        }
      ],
      "source": [
        "!pip install datasets"
      ]
    },
    {
      "cell_type": "markdown",
      "source": [
        "# **1. LIBRARIES**"
      ],
      "metadata": {
        "id": "TKuhbwlAvEbB"
      }
    },
    {
      "cell_type": "code",
      "source": [
        "from datasets import load_dataset\n",
        "import pandas as pd\n",
        "import matplotlib.pyplot as plt\n",
        "from sklearn.preprocessing import MinMaxScaler\n",
        "from sklearn.model_selection import train_test_split\n",
        "import numpy as np\n",
        "import tensorflow as tf\n",
        "from tensorflow.keras.models import Sequential\n",
        "from tensorflow.keras.layers import LSTM, Dense\n",
        "from tensorflow.keras.callbacks import EarlyStopping, ReduceLROnPlateau\n",
        "from tensorflow.keras.optimizers import Adam\n",
        "from sklearn.metrics import mean_absolute_error"
      ],
      "metadata": {
        "id": "N2DJJiPfnwSP"
      },
      "execution_count": 12,
      "outputs": []
    },
    {
      "cell_type": "markdown",
      "source": [
        "# **2. DATA PREPROCESSING**"
      ],
      "metadata": {
        "id": "zueTJjgXvGQw"
      }
    },
    {
      "cell_type": "code",
      "source": [
        "dataset = load_dataset(\"Ammok/apple_stock_price_from_1980-2021\")\n",
        "df = pd.DataFrame(dataset[\"train\"])\n",
        "df"
      ],
      "metadata": {
        "colab": {
          "base_uri": "https://localhost:8080/",
          "height": 424
        },
        "id": "pPKibi8pnyjy",
        "outputId": "8dcff927-5209-4c39-ba5f-f7cdfc4b8af3"
      },
      "execution_count": 3,
      "outputs": [
        {
          "output_type": "execute_result",
          "data": {
            "text/plain": [
              "             Date        Open        High         Low       Close   Adj Close  \\\n",
              "0      1980-12-12    0.128348    0.128906    0.128348    0.128348    0.100178   \n",
              "1      1980-12-15    0.122210    0.122210    0.121652    0.121652    0.094952   \n",
              "2      1980-12-16    0.113281    0.113281    0.112723    0.112723    0.087983   \n",
              "3      1980-12-17    0.115513    0.116071    0.115513    0.115513    0.090160   \n",
              "4      1980-12-18    0.118862    0.119420    0.118862    0.118862    0.092774   \n",
              "...           ...         ...         ...         ...         ...         ...   \n",
              "10463  2022-06-13  132.869995  135.199997  131.440002  131.880005  131.880005   \n",
              "10464  2022-06-14  133.130005  133.889999  131.479996  132.759995  132.759995   \n",
              "10465  2022-06-15  134.289993  137.339996  132.160004  135.429993  135.429993   \n",
              "10466  2022-06-16  132.080002  132.389999  129.039993  130.059998  130.059998   \n",
              "10467  2022-06-17  130.070007  133.080002  129.809998  131.559998  131.559998   \n",
              "\n",
              "          Volume  \n",
              "0      469033600  \n",
              "1      175884800  \n",
              "2      105728000  \n",
              "3       86441600  \n",
              "4       73449600  \n",
              "...          ...  \n",
              "10463  122207100  \n",
              "10464   84784300  \n",
              "10465   91533000  \n",
              "10466  108123900  \n",
              "10467  134118500  \n",
              "\n",
              "[10468 rows x 7 columns]"
            ],
            "text/html": [
              "\n",
              "  <div id=\"df-cc56716a-e549-47ac-b49e-5ce8b67750ab\" class=\"colab-df-container\">\n",
              "    <div>\n",
              "<style scoped>\n",
              "    .dataframe tbody tr th:only-of-type {\n",
              "        vertical-align: middle;\n",
              "    }\n",
              "\n",
              "    .dataframe tbody tr th {\n",
              "        vertical-align: top;\n",
              "    }\n",
              "\n",
              "    .dataframe thead th {\n",
              "        text-align: right;\n",
              "    }\n",
              "</style>\n",
              "<table border=\"1\" class=\"dataframe\">\n",
              "  <thead>\n",
              "    <tr style=\"text-align: right;\">\n",
              "      <th></th>\n",
              "      <th>Date</th>\n",
              "      <th>Open</th>\n",
              "      <th>High</th>\n",
              "      <th>Low</th>\n",
              "      <th>Close</th>\n",
              "      <th>Adj Close</th>\n",
              "      <th>Volume</th>\n",
              "    </tr>\n",
              "  </thead>\n",
              "  <tbody>\n",
              "    <tr>\n",
              "      <th>0</th>\n",
              "      <td>1980-12-12</td>\n",
              "      <td>0.128348</td>\n",
              "      <td>0.128906</td>\n",
              "      <td>0.128348</td>\n",
              "      <td>0.128348</td>\n",
              "      <td>0.100178</td>\n",
              "      <td>469033600</td>\n",
              "    </tr>\n",
              "    <tr>\n",
              "      <th>1</th>\n",
              "      <td>1980-12-15</td>\n",
              "      <td>0.122210</td>\n",
              "      <td>0.122210</td>\n",
              "      <td>0.121652</td>\n",
              "      <td>0.121652</td>\n",
              "      <td>0.094952</td>\n",
              "      <td>175884800</td>\n",
              "    </tr>\n",
              "    <tr>\n",
              "      <th>2</th>\n",
              "      <td>1980-12-16</td>\n",
              "      <td>0.113281</td>\n",
              "      <td>0.113281</td>\n",
              "      <td>0.112723</td>\n",
              "      <td>0.112723</td>\n",
              "      <td>0.087983</td>\n",
              "      <td>105728000</td>\n",
              "    </tr>\n",
              "    <tr>\n",
              "      <th>3</th>\n",
              "      <td>1980-12-17</td>\n",
              "      <td>0.115513</td>\n",
              "      <td>0.116071</td>\n",
              "      <td>0.115513</td>\n",
              "      <td>0.115513</td>\n",
              "      <td>0.090160</td>\n",
              "      <td>86441600</td>\n",
              "    </tr>\n",
              "    <tr>\n",
              "      <th>4</th>\n",
              "      <td>1980-12-18</td>\n",
              "      <td>0.118862</td>\n",
              "      <td>0.119420</td>\n",
              "      <td>0.118862</td>\n",
              "      <td>0.118862</td>\n",
              "      <td>0.092774</td>\n",
              "      <td>73449600</td>\n",
              "    </tr>\n",
              "    <tr>\n",
              "      <th>...</th>\n",
              "      <td>...</td>\n",
              "      <td>...</td>\n",
              "      <td>...</td>\n",
              "      <td>...</td>\n",
              "      <td>...</td>\n",
              "      <td>...</td>\n",
              "      <td>...</td>\n",
              "    </tr>\n",
              "    <tr>\n",
              "      <th>10463</th>\n",
              "      <td>2022-06-13</td>\n",
              "      <td>132.869995</td>\n",
              "      <td>135.199997</td>\n",
              "      <td>131.440002</td>\n",
              "      <td>131.880005</td>\n",
              "      <td>131.880005</td>\n",
              "      <td>122207100</td>\n",
              "    </tr>\n",
              "    <tr>\n",
              "      <th>10464</th>\n",
              "      <td>2022-06-14</td>\n",
              "      <td>133.130005</td>\n",
              "      <td>133.889999</td>\n",
              "      <td>131.479996</td>\n",
              "      <td>132.759995</td>\n",
              "      <td>132.759995</td>\n",
              "      <td>84784300</td>\n",
              "    </tr>\n",
              "    <tr>\n",
              "      <th>10465</th>\n",
              "      <td>2022-06-15</td>\n",
              "      <td>134.289993</td>\n",
              "      <td>137.339996</td>\n",
              "      <td>132.160004</td>\n",
              "      <td>135.429993</td>\n",
              "      <td>135.429993</td>\n",
              "      <td>91533000</td>\n",
              "    </tr>\n",
              "    <tr>\n",
              "      <th>10466</th>\n",
              "      <td>2022-06-16</td>\n",
              "      <td>132.080002</td>\n",
              "      <td>132.389999</td>\n",
              "      <td>129.039993</td>\n",
              "      <td>130.059998</td>\n",
              "      <td>130.059998</td>\n",
              "      <td>108123900</td>\n",
              "    </tr>\n",
              "    <tr>\n",
              "      <th>10467</th>\n",
              "      <td>2022-06-17</td>\n",
              "      <td>130.070007</td>\n",
              "      <td>133.080002</td>\n",
              "      <td>129.809998</td>\n",
              "      <td>131.559998</td>\n",
              "      <td>131.559998</td>\n",
              "      <td>134118500</td>\n",
              "    </tr>\n",
              "  </tbody>\n",
              "</table>\n",
              "<p>10468 rows × 7 columns</p>\n",
              "</div>\n",
              "    <div class=\"colab-df-buttons\">\n",
              "\n",
              "  <div class=\"colab-df-container\">\n",
              "    <button class=\"colab-df-convert\" onclick=\"convertToInteractive('df-cc56716a-e549-47ac-b49e-5ce8b67750ab')\"\n",
              "            title=\"Convert this dataframe to an interactive table.\"\n",
              "            style=\"display:none;\">\n",
              "\n",
              "  <svg xmlns=\"http://www.w3.org/2000/svg\" height=\"24px\" viewBox=\"0 -960 960 960\">\n",
              "    <path d=\"M120-120v-720h720v720H120Zm60-500h600v-160H180v160Zm220 220h160v-160H400v160Zm0 220h160v-160H400v160ZM180-400h160v-160H180v160Zm440 0h160v-160H620v160ZM180-180h160v-160H180v160Zm440 0h160v-160H620v160Z\"/>\n",
              "  </svg>\n",
              "    </button>\n",
              "\n",
              "  <style>\n",
              "    .colab-df-container {\n",
              "      display:flex;\n",
              "      gap: 12px;\n",
              "    }\n",
              "\n",
              "    .colab-df-convert {\n",
              "      background-color: #E8F0FE;\n",
              "      border: none;\n",
              "      border-radius: 50%;\n",
              "      cursor: pointer;\n",
              "      display: none;\n",
              "      fill: #1967D2;\n",
              "      height: 32px;\n",
              "      padding: 0 0 0 0;\n",
              "      width: 32px;\n",
              "    }\n",
              "\n",
              "    .colab-df-convert:hover {\n",
              "      background-color: #E2EBFA;\n",
              "      box-shadow: 0px 1px 2px rgba(60, 64, 67, 0.3), 0px 1px 3px 1px rgba(60, 64, 67, 0.15);\n",
              "      fill: #174EA6;\n",
              "    }\n",
              "\n",
              "    .colab-df-buttons div {\n",
              "      margin-bottom: 4px;\n",
              "    }\n",
              "\n",
              "    [theme=dark] .colab-df-convert {\n",
              "      background-color: #3B4455;\n",
              "      fill: #D2E3FC;\n",
              "    }\n",
              "\n",
              "    [theme=dark] .colab-df-convert:hover {\n",
              "      background-color: #434B5C;\n",
              "      box-shadow: 0px 1px 3px 1px rgba(0, 0, 0, 0.15);\n",
              "      filter: drop-shadow(0px 1px 2px rgba(0, 0, 0, 0.3));\n",
              "      fill: #FFFFFF;\n",
              "    }\n",
              "  </style>\n",
              "\n",
              "    <script>\n",
              "      const buttonEl =\n",
              "        document.querySelector('#df-cc56716a-e549-47ac-b49e-5ce8b67750ab button.colab-df-convert');\n",
              "      buttonEl.style.display =\n",
              "        google.colab.kernel.accessAllowed ? 'block' : 'none';\n",
              "\n",
              "      async function convertToInteractive(key) {\n",
              "        const element = document.querySelector('#df-cc56716a-e549-47ac-b49e-5ce8b67750ab');\n",
              "        const dataTable =\n",
              "          await google.colab.kernel.invokeFunction('convertToInteractive',\n",
              "                                                    [key], {});\n",
              "        if (!dataTable) return;\n",
              "\n",
              "        const docLinkHtml = 'Like what you see? Visit the ' +\n",
              "          '<a target=\"_blank\" href=https://colab.research.google.com/notebooks/data_table.ipynb>data table notebook</a>'\n",
              "          + ' to learn more about interactive tables.';\n",
              "        element.innerHTML = '';\n",
              "        dataTable['output_type'] = 'display_data';\n",
              "        await google.colab.output.renderOutput(dataTable, element);\n",
              "        const docLink = document.createElement('div');\n",
              "        docLink.innerHTML = docLinkHtml;\n",
              "        element.appendChild(docLink);\n",
              "      }\n",
              "    </script>\n",
              "  </div>\n",
              "\n",
              "\n",
              "<div id=\"df-7e2d3f67-1afb-40ab-a58c-2fc6196aa480\">\n",
              "  <button class=\"colab-df-quickchart\" onclick=\"quickchart('df-7e2d3f67-1afb-40ab-a58c-2fc6196aa480')\"\n",
              "            title=\"Suggest charts\"\n",
              "            style=\"display:none;\">\n",
              "\n",
              "<svg xmlns=\"http://www.w3.org/2000/svg\" height=\"24px\"viewBox=\"0 0 24 24\"\n",
              "     width=\"24px\">\n",
              "    <g>\n",
              "        <path d=\"M19 3H5c-1.1 0-2 .9-2 2v14c0 1.1.9 2 2 2h14c1.1 0 2-.9 2-2V5c0-1.1-.9-2-2-2zM9 17H7v-7h2v7zm4 0h-2V7h2v10zm4 0h-2v-4h2v4z\"/>\n",
              "    </g>\n",
              "</svg>\n",
              "  </button>\n",
              "\n",
              "<style>\n",
              "  .colab-df-quickchart {\n",
              "      --bg-color: #E8F0FE;\n",
              "      --fill-color: #1967D2;\n",
              "      --hover-bg-color: #E2EBFA;\n",
              "      --hover-fill-color: #174EA6;\n",
              "      --disabled-fill-color: #AAA;\n",
              "      --disabled-bg-color: #DDD;\n",
              "  }\n",
              "\n",
              "  [theme=dark] .colab-df-quickchart {\n",
              "      --bg-color: #3B4455;\n",
              "      --fill-color: #D2E3FC;\n",
              "      --hover-bg-color: #434B5C;\n",
              "      --hover-fill-color: #FFFFFF;\n",
              "      --disabled-bg-color: #3B4455;\n",
              "      --disabled-fill-color: #666;\n",
              "  }\n",
              "\n",
              "  .colab-df-quickchart {\n",
              "    background-color: var(--bg-color);\n",
              "    border: none;\n",
              "    border-radius: 50%;\n",
              "    cursor: pointer;\n",
              "    display: none;\n",
              "    fill: var(--fill-color);\n",
              "    height: 32px;\n",
              "    padding: 0;\n",
              "    width: 32px;\n",
              "  }\n",
              "\n",
              "  .colab-df-quickchart:hover {\n",
              "    background-color: var(--hover-bg-color);\n",
              "    box-shadow: 0 1px 2px rgba(60, 64, 67, 0.3), 0 1px 3px 1px rgba(60, 64, 67, 0.15);\n",
              "    fill: var(--button-hover-fill-color);\n",
              "  }\n",
              "\n",
              "  .colab-df-quickchart-complete:disabled,\n",
              "  .colab-df-quickchart-complete:disabled:hover {\n",
              "    background-color: var(--disabled-bg-color);\n",
              "    fill: var(--disabled-fill-color);\n",
              "    box-shadow: none;\n",
              "  }\n",
              "\n",
              "  .colab-df-spinner {\n",
              "    border: 2px solid var(--fill-color);\n",
              "    border-color: transparent;\n",
              "    border-bottom-color: var(--fill-color);\n",
              "    animation:\n",
              "      spin 1s steps(1) infinite;\n",
              "  }\n",
              "\n",
              "  @keyframes spin {\n",
              "    0% {\n",
              "      border-color: transparent;\n",
              "      border-bottom-color: var(--fill-color);\n",
              "      border-left-color: var(--fill-color);\n",
              "    }\n",
              "    20% {\n",
              "      border-color: transparent;\n",
              "      border-left-color: var(--fill-color);\n",
              "      border-top-color: var(--fill-color);\n",
              "    }\n",
              "    30% {\n",
              "      border-color: transparent;\n",
              "      border-left-color: var(--fill-color);\n",
              "      border-top-color: var(--fill-color);\n",
              "      border-right-color: var(--fill-color);\n",
              "    }\n",
              "    40% {\n",
              "      border-color: transparent;\n",
              "      border-right-color: var(--fill-color);\n",
              "      border-top-color: var(--fill-color);\n",
              "    }\n",
              "    60% {\n",
              "      border-color: transparent;\n",
              "      border-right-color: var(--fill-color);\n",
              "    }\n",
              "    80% {\n",
              "      border-color: transparent;\n",
              "      border-right-color: var(--fill-color);\n",
              "      border-bottom-color: var(--fill-color);\n",
              "    }\n",
              "    90% {\n",
              "      border-color: transparent;\n",
              "      border-bottom-color: var(--fill-color);\n",
              "    }\n",
              "  }\n",
              "</style>\n",
              "\n",
              "  <script>\n",
              "    async function quickchart(key) {\n",
              "      const quickchartButtonEl =\n",
              "        document.querySelector('#' + key + ' button');\n",
              "      quickchartButtonEl.disabled = true;  // To prevent multiple clicks.\n",
              "      quickchartButtonEl.classList.add('colab-df-spinner');\n",
              "      try {\n",
              "        const charts = await google.colab.kernel.invokeFunction(\n",
              "            'suggestCharts', [key], {});\n",
              "      } catch (error) {\n",
              "        console.error('Error during call to suggestCharts:', error);\n",
              "      }\n",
              "      quickchartButtonEl.classList.remove('colab-df-spinner');\n",
              "      quickchartButtonEl.classList.add('colab-df-quickchart-complete');\n",
              "    }\n",
              "    (() => {\n",
              "      let quickchartButtonEl =\n",
              "        document.querySelector('#df-7e2d3f67-1afb-40ab-a58c-2fc6196aa480 button');\n",
              "      quickchartButtonEl.style.display =\n",
              "        google.colab.kernel.accessAllowed ? 'block' : 'none';\n",
              "    })();\n",
              "  </script>\n",
              "</div>\n",
              "    </div>\n",
              "  </div>\n"
            ]
          },
          "metadata": {},
          "execution_count": 3
        }
      ]
    },
    {
      "cell_type": "markdown",
      "source": [
        "**NOTE:** Dataset `apple_stock_price_from_1980-2021` berasal dari HuggingFace.\n",
        "\n",
        "https://huggingface.co/datasets/Ammok/apple_stock_price_from_1980-2021\n"
      ],
      "metadata": {
        "id": "JD-Voju77X2e"
      }
    },
    {
      "cell_type": "code",
      "source": [
        "df.info()"
      ],
      "metadata": {
        "colab": {
          "base_uri": "https://localhost:8080/"
        },
        "id": "zZ74fDi7n2Bw",
        "outputId": "409322e0-24e8-4fb7-97a2-ecca945edb68"
      },
      "execution_count": 4,
      "outputs": [
        {
          "output_type": "stream",
          "name": "stdout",
          "text": [
            "<class 'pandas.core.frame.DataFrame'>\n",
            "RangeIndex: 10468 entries, 0 to 10467\n",
            "Data columns (total 7 columns):\n",
            " #   Column     Non-Null Count  Dtype  \n",
            "---  ------     --------------  -----  \n",
            " 0   Date       10468 non-null  object \n",
            " 1   Open       10468 non-null  float64\n",
            " 2   High       10468 non-null  float64\n",
            " 3   Low        10468 non-null  float64\n",
            " 4   Close      10468 non-null  float64\n",
            " 5   Adj Close  10468 non-null  float64\n",
            " 6   Volume     10468 non-null  int64  \n",
            "dtypes: float64(5), int64(1), object(1)\n",
            "memory usage: 572.6+ KB\n"
          ]
        }
      ]
    },
    {
      "cell_type": "markdown",
      "source": [
        "## **2.1 Data Normalization**"
      ],
      "metadata": {
        "id": "6Kc3Ia5wvLTv"
      }
    },
    {
      "cell_type": "code",
      "source": [
        "# Selecting the 'Close' price for modeling\n",
        "data = df['Close'].values.reshape(-1, 1)\n",
        "\n",
        "# Normalizing the data\n",
        "scaler = MinMaxScaler(feature_range=(0, 1))\n",
        "scaled_data = scaler.fit_transform(data)"
      ],
      "metadata": {
        "id": "4jnZ2Y0poIsD"
      },
      "execution_count": 5,
      "outputs": []
    },
    {
      "cell_type": "markdown",
      "source": [
        "> Menggunakan atribut harga `Close` untuk *time series modelling* karena harga `Close` (harga saham saat pasar tutup) itu penting karena memberikan gambaran umum bagaimana kondisi saham setelah sehari penuh berdagang. Ibaratkan, harga `Close` adalah rangkuman dari semua yang terjadi selama suatu hari tertentu, yaitu termasuk reaksi investor terhadap berita atau peristiwa apapun. Yang mana, jika dibandingkan dengan harga `Open` (pembukaan) atau harga `High` (tertinggi)/`Low` (terendah), harga `Close` (penutupan) lebih stabil. Jadi, jika menggunakan harga `Close` untuk melakukan prediksi, hasilnya lebih dapat diandalkan dan tidak terlalu banyak *noise*."
      ],
      "metadata": {
        "id": "B3Ain1qE95an"
      }
    },
    {
      "cell_type": "markdown",
      "source": [
        "## **2.2 Data Splitting**"
      ],
      "metadata": {
        "id": "j2iMge-VxHVF"
      }
    },
    {
      "cell_type": "code",
      "source": [
        "# Splitting the data into training and validation sets (80% train, 20% validation)\n",
        "train_data, val_data = train_test_split(scaled_data, test_size=0.20, shuffle=False)\n",
        "\n",
        "# Function to create a dataset with time steps\n",
        "def create_dataset(dataset, time_step=1):\n",
        "    X, Y = [], []\n",
        "    for i in range(len(dataset) - time_step - 1):\n",
        "        a = dataset[i:(i + time_step), 0]\n",
        "        X.append(a)\n",
        "        Y.append(dataset[i + time_step, 0])\n",
        "    return np.array(X), np.array(Y)\n",
        "\n",
        "time_step = 100\n",
        "X_train, y_train = create_dataset(train_data, time_step)\n",
        "X_val, y_val = create_dataset(val_data, time_step)\n",
        "\n",
        "# Reshaping input to be [samples, time steps, features] which is required for LSTM\n",
        "X_train = X_train.reshape(X_train.shape[0], X_train.shape[1], 1)\n",
        "X_val = X_val.reshape(X_val.shape[0], X_val.shape[1], 1)\n",
        "\n",
        "X_train.shape, X_val.shape"
      ],
      "metadata": {
        "colab": {
          "base_uri": "https://localhost:8080/"
        },
        "id": "iMnrGp53vA03",
        "outputId": "3cc651f9-a39e-4a70-f684-9e0eb2f9e942"
      },
      "execution_count": 6,
      "outputs": [
        {
          "output_type": "execute_result",
          "data": {
            "text/plain": [
              "((8273, 100, 1), (1993, 100, 1))"
            ]
          },
          "metadata": {},
          "execution_count": 6
        }
      ]
    },
    {
      "cell_type": "markdown",
      "source": [
        "# **3. DATA MODELLING**"
      ],
      "metadata": {
        "id": "U-orm94X3lq6"
      }
    },
    {
      "cell_type": "markdown",
      "source": [
        "## **3.1 Data Training**"
      ],
      "metadata": {
        "id": "qoP0U8sd3o45"
      }
    },
    {
      "cell_type": "code",
      "source": [
        "# Building the LSTM model\n",
        "model = Sequential([\n",
        "    LSTM(50, return_sequences=True, input_shape=(100, 1)),\n",
        "    LSTM(50, return_sequences=False),\n",
        "    Dense(25),\n",
        "    Dense(1)\n",
        "])\n",
        "\n",
        "# EarlyStopping and ReduceLROnPlateau callbacks\n",
        "early_stop = EarlyStopping(monitor='val_loss', patience=10)\n",
        "reduce_lr = ReduceLROnPlateau(monitor='val_loss', factor=0.2, patience=5, min_lr=0.001)\n",
        "\n",
        "optimizer = Adam(learning_rate=0.001)\n",
        "# Compiling the model with an optimizer that includes a learning rate\n",
        "model.compile(optimizer=optimizer, metrics=[\"mae\"], loss=tf.keras.losses.Huber())\n",
        "\n",
        "# Training the model\n",
        "history = model.fit(X_train, y_train, validation_data=(X_val, y_val), epochs=100, batch_size=32, callbacks=[early_stop, reduce_lr], verbose=1)"
      ],
      "metadata": {
        "colab": {
          "base_uri": "https://localhost:8080/"
        },
        "id": "mHcTnt8H4wQW",
        "outputId": "38425710-550b-47d1-dd71-b4fcd749149e"
      },
      "execution_count": 8,
      "outputs": [
        {
          "output_type": "stream",
          "name": "stdout",
          "text": [
            "Epoch 1/100\n",
            "259/259 [==============================] - 9s 15ms/step - loss: 8.1686e-06 - mae: 0.0018 - val_loss: 7.5926e-04 - val_mae: 0.0228 - lr: 0.0010\n",
            "Epoch 2/100\n",
            "259/259 [==============================] - 3s 11ms/step - loss: 1.6865e-06 - mae: 0.0012 - val_loss: 5.2965e-04 - val_mae: 0.0185 - lr: 0.0010\n",
            "Epoch 3/100\n",
            "259/259 [==============================] - 3s 11ms/step - loss: 1.3798e-06 - mae: 0.0011 - val_loss: 6.1110e-04 - val_mae: 0.0201 - lr: 0.0010\n",
            "Epoch 4/100\n",
            "259/259 [==============================] - 3s 11ms/step - loss: 1.1979e-06 - mae: 9.9438e-04 - val_loss: 7.8477e-04 - val_mae: 0.0237 - lr: 0.0010\n",
            "Epoch 5/100\n",
            "259/259 [==============================] - 3s 11ms/step - loss: 1.3835e-06 - mae: 0.0011 - val_loss: 4.9355e-04 - val_mae: 0.0178 - lr: 0.0010\n",
            "Epoch 6/100\n",
            "259/259 [==============================] - 3s 11ms/step - loss: 1.1074e-06 - mae: 9.6556e-04 - val_loss: 3.9517e-04 - val_mae: 0.0160 - lr: 0.0010\n",
            "Epoch 7/100\n",
            "259/259 [==============================] - 3s 11ms/step - loss: 1.3444e-06 - mae: 0.0012 - val_loss: 4.0367e-04 - val_mae: 0.0159 - lr: 0.0010\n",
            "Epoch 8/100\n",
            "259/259 [==============================] - 3s 11ms/step - loss: 8.5405e-07 - mae: 8.3357e-04 - val_loss: 6.1709e-04 - val_mae: 0.0209 - lr: 0.0010\n",
            "Epoch 9/100\n",
            "259/259 [==============================] - 3s 11ms/step - loss: 1.1586e-06 - mae: 0.0010 - val_loss: 3.5749e-04 - val_mae: 0.0151 - lr: 0.0010\n",
            "Epoch 10/100\n",
            "259/259 [==============================] - 3s 11ms/step - loss: 9.3163e-07 - mae: 9.2583e-04 - val_loss: 3.7111e-04 - val_mae: 0.0154 - lr: 0.0010\n",
            "Epoch 11/100\n",
            "259/259 [==============================] - 3s 11ms/step - loss: 1.2169e-06 - mae: 0.0011 - val_loss: 3.1601e-04 - val_mae: 0.0141 - lr: 0.0010\n",
            "Epoch 12/100\n",
            "259/259 [==============================] - 3s 11ms/step - loss: 1.0059e-06 - mae: 9.9272e-04 - val_loss: 3.4194e-04 - val_mae: 0.0150 - lr: 0.0010\n",
            "Epoch 13/100\n",
            "259/259 [==============================] - 3s 11ms/step - loss: 8.2190e-07 - mae: 8.3313e-04 - val_loss: 3.8058e-04 - val_mae: 0.0160 - lr: 0.0010\n",
            "Epoch 14/100\n",
            "259/259 [==============================] - 3s 11ms/step - loss: 8.4703e-07 - mae: 9.2037e-04 - val_loss: 2.4659e-04 - val_mae: 0.0125 - lr: 0.0010\n",
            "Epoch 15/100\n",
            "259/259 [==============================] - 3s 11ms/step - loss: 7.8880e-07 - mae: 8.2311e-04 - val_loss: 3.7858e-04 - val_mae: 0.0161 - lr: 0.0010\n",
            "Epoch 16/100\n",
            "259/259 [==============================] - 3s 11ms/step - loss: 7.5635e-07 - mae: 8.1997e-04 - val_loss: 3.3374e-04 - val_mae: 0.0150 - lr: 0.0010\n",
            "Epoch 17/100\n",
            "259/259 [==============================] - 3s 11ms/step - loss: 7.2749e-07 - mae: 8.0763e-04 - val_loss: 1.5016e-04 - val_mae: 0.0101 - lr: 0.0010\n",
            "Epoch 18/100\n",
            "259/259 [==============================] - 3s 11ms/step - loss: 6.6535e-07 - mae: 7.3817e-04 - val_loss: 4.0306e-04 - val_mae: 0.0173 - lr: 0.0010\n",
            "Epoch 19/100\n",
            "259/259 [==============================] - 3s 11ms/step - loss: 6.7695e-07 - mae: 7.9133e-04 - val_loss: 3.3857e-04 - val_mae: 0.0155 - lr: 0.0010\n",
            "Epoch 20/100\n",
            "259/259 [==============================] - 3s 11ms/step - loss: 6.4448e-07 - mae: 7.4243e-04 - val_loss: 3.2648e-04 - val_mae: 0.0151 - lr: 0.0010\n",
            "Epoch 21/100\n",
            "259/259 [==============================] - 3s 11ms/step - loss: 5.9594e-07 - mae: 7.3585e-04 - val_loss: 2.4208e-04 - val_mae: 0.0126 - lr: 0.0010\n",
            "Epoch 22/100\n",
            "259/259 [==============================] - 3s 11ms/step - loss: 7.5780e-07 - mae: 8.3688e-04 - val_loss: 3.5674e-04 - val_mae: 0.0159 - lr: 0.0010\n",
            "Epoch 23/100\n",
            "259/259 [==============================] - 3s 11ms/step - loss: 7.8364e-07 - mae: 8.9557e-04 - val_loss: 2.8848e-04 - val_mae: 0.0141 - lr: 0.0010\n",
            "Epoch 24/100\n",
            "259/259 [==============================] - 3s 11ms/step - loss: 6.3764e-07 - mae: 7.8142e-04 - val_loss: 4.1091e-04 - val_mae: 0.0179 - lr: 0.0010\n",
            "Epoch 25/100\n",
            "259/259 [==============================] - 3s 11ms/step - loss: 5.4093e-07 - mae: 7.0856e-04 - val_loss: 2.5255e-04 - val_mae: 0.0128 - lr: 0.0010\n",
            "Epoch 26/100\n",
            "259/259 [==============================] - 3s 11ms/step - loss: 6.6643e-07 - mae: 8.0481e-04 - val_loss: 1.4136e-04 - val_mae: 0.0094 - lr: 0.0010\n",
            "Epoch 27/100\n",
            "259/259 [==============================] - 3s 11ms/step - loss: 6.1113e-07 - mae: 7.5562e-04 - val_loss: 2.1489e-04 - val_mae: 0.0118 - lr: 0.0010\n",
            "Epoch 28/100\n",
            "259/259 [==============================] - 3s 11ms/step - loss: 6.1920e-07 - mae: 7.7822e-04 - val_loss: 5.1534e-04 - val_mae: 0.0210 - lr: 0.0010\n",
            "Epoch 29/100\n",
            "259/259 [==============================] - 3s 11ms/step - loss: 4.8701e-07 - mae: 6.4719e-04 - val_loss: 1.6854e-04 - val_mae: 0.0103 - lr: 0.0010\n",
            "Epoch 30/100\n",
            "259/259 [==============================] - 3s 11ms/step - loss: 5.0081e-07 - mae: 6.6036e-04 - val_loss: 2.1026e-04 - val_mae: 0.0117 - lr: 0.0010\n",
            "Epoch 31/100\n",
            "259/259 [==============================] - 3s 11ms/step - loss: 6.3132e-07 - mae: 7.7478e-04 - val_loss: 1.9073e-04 - val_mae: 0.0111 - lr: 0.0010\n",
            "Epoch 32/100\n",
            "259/259 [==============================] - 3s 11ms/step - loss: 4.7066e-07 - mae: 6.6131e-04 - val_loss: 1.3618e-04 - val_mae: 0.0092 - lr: 0.0010\n",
            "Epoch 33/100\n",
            "259/259 [==============================] - 3s 11ms/step - loss: 4.3894e-07 - mae: 6.0186e-04 - val_loss: 2.8742e-04 - val_mae: 0.0144 - lr: 0.0010\n",
            "Epoch 34/100\n",
            "259/259 [==============================] - 3s 11ms/step - loss: 6.6523e-07 - mae: 7.4954e-04 - val_loss: 3.5505e-04 - val_mae: 0.0170 - lr: 0.0010\n",
            "Epoch 35/100\n",
            "259/259 [==============================] - 3s 11ms/step - loss: 4.7932e-07 - mae: 6.5185e-04 - val_loss: 1.9594e-04 - val_mae: 0.0118 - lr: 0.0010\n",
            "Epoch 36/100\n",
            "259/259 [==============================] - 3s 11ms/step - loss: 7.0558e-07 - mae: 8.0200e-04 - val_loss: 1.6093e-04 - val_mae: 0.0100 - lr: 0.0010\n",
            "Epoch 37/100\n",
            "259/259 [==============================] - 3s 11ms/step - loss: 4.2289e-07 - mae: 6.1305e-04 - val_loss: 1.9713e-04 - val_mae: 0.0112 - lr: 0.0010\n",
            "Epoch 38/100\n",
            "259/259 [==============================] - 3s 11ms/step - loss: 4.5162e-07 - mae: 6.3433e-04 - val_loss: 7.8238e-05 - val_mae: 0.0079 - lr: 0.0010\n",
            "Epoch 39/100\n",
            "259/259 [==============================] - 3s 11ms/step - loss: 5.2643e-07 - mae: 6.9676e-04 - val_loss: 3.4888e-04 - val_mae: 0.0166 - lr: 0.0010\n",
            "Epoch 40/100\n",
            "259/259 [==============================] - 3s 11ms/step - loss: 5.8226e-07 - mae: 7.6154e-04 - val_loss: 1.5548e-04 - val_mae: 0.0098 - lr: 0.0010\n",
            "Epoch 41/100\n",
            "259/259 [==============================] - 3s 11ms/step - loss: 4.8226e-07 - mae: 6.7019e-04 - val_loss: 2.8175e-04 - val_mae: 0.0145 - lr: 0.0010\n",
            "Epoch 42/100\n",
            "259/259 [==============================] - 3s 11ms/step - loss: 3.6125e-07 - mae: 5.3983e-04 - val_loss: 2.2714e-04 - val_mae: 0.0123 - lr: 0.0010\n",
            "Epoch 43/100\n",
            "259/259 [==============================] - 3s 11ms/step - loss: 4.4280e-07 - mae: 6.0062e-04 - val_loss: 7.8862e-05 - val_mae: 0.0076 - lr: 0.0010\n",
            "Epoch 44/100\n",
            "259/259 [==============================] - 3s 11ms/step - loss: 3.6449e-07 - mae: 5.4929e-04 - val_loss: 1.6089e-04 - val_mae: 0.0101 - lr: 0.0010\n",
            "Epoch 45/100\n",
            "259/259 [==============================] - 3s 11ms/step - loss: 4.1837e-07 - mae: 5.9385e-04 - val_loss: 2.5576e-04 - val_mae: 0.0132 - lr: 0.0010\n",
            "Epoch 46/100\n",
            "259/259 [==============================] - 3s 11ms/step - loss: 4.2440e-07 - mae: 6.0357e-04 - val_loss: 1.9759e-04 - val_mae: 0.0114 - lr: 0.0010\n",
            "Epoch 47/100\n",
            "259/259 [==============================] - 3s 11ms/step - loss: 4.2530e-07 - mae: 6.2972e-04 - val_loss: 1.3021e-04 - val_mae: 0.0089 - lr: 0.0010\n",
            "Epoch 48/100\n",
            "259/259 [==============================] - 3s 11ms/step - loss: 4.5543e-07 - mae: 6.3860e-04 - val_loss: 1.3019e-04 - val_mae: 0.0089 - lr: 0.0010\n"
          ]
        }
      ]
    },
    {
      "cell_type": "markdown",
      "source": [
        "## **3.2 Model Evaluation**"
      ],
      "metadata": {
        "id": "FKWtmIF93rGK"
      }
    },
    {
      "cell_type": "code",
      "source": [
        "# Making predictions\n",
        "predicted = model.predict(X_val)\n",
        "\n",
        "# Inverting the normalization for true scale MAE\n",
        "predicted_actual = scaler.inverse_transform(predicted)\n",
        "y_val_actual = scaler.inverse_transform(y_val.reshape(-1, 1))\n",
        "\n",
        "# Calculating MAE\n",
        "mae = mean_absolute_error(y_val_actual, predicted_actual)\n",
        "print(\"Mean Absolute Error:\", mae)\n",
        "\n",
        "# Checking if MAE is less than 10% of the data scale\n",
        "data_scale = df['Close'].max() - df['Close'].min()\n",
        "print(\"MAE < 10% of data scale:\", mae < 0.1 * data_scale)"
      ],
      "metadata": {
        "colab": {
          "base_uri": "https://localhost:8080/"
        },
        "id": "4QzHLD5vzB1W",
        "outputId": "2dfff9fd-1558-4952-b2a9-44153e5086db"
      },
      "execution_count": 11,
      "outputs": [
        {
          "output_type": "stream",
          "name": "stdout",
          "text": [
            "63/63 [==============================] - 0s 5ms/step\n",
            "Mean Absolute Error: 1.6233130016221935\n",
            "MAE < 10% of data scale: True\n"
          ]
        }
      ]
    },
    {
      "cell_type": "code",
      "source": [
        "# Extracting loss and MAE from the training history\n",
        "loss = history.history['loss']\n",
        "val_loss = history.history['val_loss']\n",
        "mae = history.history['mae']\n",
        "val_mae = history.history['val_mae']\n",
        "\n",
        "epochs = range(1, len(loss) + 1)\n",
        "\n",
        "# Plotting Loss\n",
        "plt.figure(figsize=(12, 6))\n",
        "plt.subplot(1, 2, 1)\n",
        "plt.plot(epochs, loss, 'bo-', label='Training Loss')\n",
        "plt.plot(epochs, val_loss, 'r*-', label='Validation Loss')\n",
        "plt.title('Training and Validation Loss')\n",
        "plt.xlabel('Epochs')\n",
        "plt.ylabel('Loss')\n",
        "plt.legend()\n",
        "\n",
        "# Plotting MAE\n",
        "plt.subplot(1, 2, 2)\n",
        "plt.plot(epochs, mae, 'bo-', label='Training MAE')\n",
        "plt.plot(epochs, val_mae, 'r*-', label='Validation MAE')\n",
        "plt.title('Training and Validation MAE')\n",
        "plt.xlabel('Epochs')\n",
        "plt.ylabel('MAE')\n",
        "plt.legend()\n",
        "\n",
        "plt.tight_layout()\n",
        "plt.show()"
      ],
      "metadata": {
        "colab": {
          "base_uri": "https://localhost:8080/",
          "height": 437
        },
        "id": "umrvIWdR88eM",
        "outputId": "bccbbcc7-82f7-4bca-d1e6-7b2688fc3d44"
      },
      "execution_count": 13,
      "outputs": [
        {
          "output_type": "display_data",
          "data": {
            "text/plain": [
              "<Figure size 1200x600 with 2 Axes>"
            ],
            "image/png": "[encoded data removed]"
          },
          "metadata": {}
        }
      ]
    }
  ]
}